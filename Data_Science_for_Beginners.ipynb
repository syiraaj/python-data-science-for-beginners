{
  "nbformat": 4,
  "nbformat_minor": 0,
  "metadata": {
    "colab": {
      "name": "Data_Science_for_Beginners.ipynb",
      "provenance": [],
      "collapsed_sections": [
        "s9f5wSv-eq_C"
      ],
      "toc_visible": true,
      "include_colab_link": true
    },
    "kernelspec": {
      "name": "python3",
      "display_name": "Python 3"
    },
    "language_info": {
      "name": "python"
    }
  },
  "cells": [
    {
      "cell_type": "markdown",
      "metadata": {
        "id": "view-in-github",
        "colab_type": "text"
      },
      "source": [
        "<a href=\"https://colab.research.google.com/github/syiraaj/python-data-science-for-beginners/blob/main/Data_Science_for_Beginners.ipynb\" target=\"_parent\"><img src=\"https://colab.research.google.com/assets/colab-badge.svg\" alt=\"Open In Colab\"/></a>"
      ]
    },
    {
      "cell_type": "markdown",
      "metadata": {
        "id": "ipfKB1Q3d2qM"
      },
      "source": [
        "# **Setup Google Colab**"
      ]
    },
    {
      "cell_type": "code",
      "metadata": {
        "colab": {
          "base_uri": "https://localhost:8080/"
        },
        "id": "WE9CLwDp1Xss",
        "outputId": "892b0ec5-cca4-4547-c98a-7907840a58f2"
      },
      "source": [
        "from google.colab import drive\n",
        "drive.mount('/content/drive')"
      ],
      "execution_count": 11,
      "outputs": [
        {
          "output_type": "stream",
          "text": [
            "Drive already mounted at /content/drive; to attempt to forcibly remount, call drive.mount(\"/content/drive\", force_remount=True).\n"
          ],
          "name": "stdout"
        }
      ]
    },
    {
      "cell_type": "markdown",
      "metadata": {
        "id": "s9f5wSv-eq_C"
      },
      "source": [
        "# **Basic Python Concepts**"
      ]
    },
    {
      "cell_type": "markdown",
      "metadata": {
        "id": "JE3UnsP6eHkt"
      },
      "source": [
        "**First Code**"
      ]
    },
    {
      "cell_type": "code",
      "metadata": {
        "colab": {
          "base_uri": "https://localhost:8080/"
        },
        "id": "GVEK9dtGeUo_",
        "outputId": "94de23bb-74b5-477a-91ff-f5b2ddd1d559"
      },
      "source": [
        "print('Hello World!')"
      ],
      "execution_count": 2,
      "outputs": [
        {
          "output_type": "stream",
          "text": [
            "Hello World!\n"
          ],
          "name": "stdout"
        }
      ]
    },
    {
      "cell_type": "markdown",
      "metadata": {
        "id": "ZZd4XpTSe_qS"
      },
      "source": [
        "**Data Types**"
      ]
    },
    {
      "cell_type": "code",
      "metadata": {
        "colab": {
          "base_uri": "https://localhost:8080/"
        },
        "id": "VZADaYDGfGxU",
        "outputId": "fa55f469-fcac-44f4-8ba5-48c3e860c4f6"
      },
      "source": [
        "#Check Data Type\n",
        "x = 10\n",
        "y = 10.1\n",
        "z = 'Country'\n",
        "\n",
        "print (type (x))\n",
        "print (type (y))\n",
        "print (type (z))"
      ],
      "execution_count": 3,
      "outputs": [
        {
          "output_type": "stream",
          "text": [
            "<class 'int'>\n",
            "<class 'float'>\n",
            "<class 'str'>\n"
          ],
          "name": "stdout"
        }
      ]
    },
    {
      "cell_type": "markdown",
      "metadata": {
        "id": "KsA2YxAdfpY4"
      },
      "source": [
        "**Python Comment**"
      ]
    },
    {
      "cell_type": "code",
      "metadata": {
        "colab": {
          "base_uri": "https://localhost:8080/"
        },
        "id": "ADkBdhInfvfm",
        "outputId": "d11ca13d-be5a-4de5-ec8a-70ed559b364b"
      },
      "source": [
        "x = 1 #this is a Python comment \n",
        "x= x + 5\n",
        "print(x)"
      ],
      "execution_count": 4,
      "outputs": [
        {
          "output_type": "stream",
          "text": [
            "6\n"
          ],
          "name": "stdout"
        }
      ]
    },
    {
      "cell_type": "markdown",
      "metadata": {
        "id": "Wc3yhgvcgFf0"
      },
      "source": [
        "**Decimal Place**"
      ]
    },
    {
      "cell_type": "code",
      "metadata": {
        "colab": {
          "base_uri": "https://localhost:8080/"
        },
        "id": "QO0gWdcUgJja",
        "outputId": "42798ad2-bc32-4e9e-b5b8-5c440a365ae6"
      },
      "source": [
        "#width = float (input (\"Enter Width: \"))\n",
        "#height = float (input (\"Enter Height: \"))\n",
        "\n",
        "width = 10.54\n",
        "height = 20.2145\n",
        "\n",
        "area = width * height\n",
        "\n",
        "# area = round (area,2) # <<< this code is to round off to the decimal place\n",
        "\n",
        "print (\"Area of the rectangle is \", area)"
      ],
      "execution_count": 5,
      "outputs": [
        {
          "output_type": "stream",
          "text": [
            "Area of the rectangle is  213.06082999999998\n"
          ],
          "name": "stdout"
        }
      ]
    },
    {
      "cell_type": "markdown",
      "metadata": {
        "id": "YxlTM3V2g3R8"
      },
      "source": [
        "**.format() Method**"
      ]
    },
    {
      "cell_type": "code",
      "metadata": {
        "colab": {
          "base_uri": "https://localhost:8080/"
        },
        "id": "ClDuyqR6hBRo",
        "outputId": "e9c4d2e5-2c29-4b9e-cc5c-c672d9770399"
      },
      "source": [
        "#width = float (input (\"Enter Width: \"))\n",
        "#height = float (input (\"Enter Height: \"))\n",
        "\n",
        "width = 10.54\n",
        "height = 20.2145\n",
        "\n",
        "area = width * height\n",
        "\n",
        "# area = round (area,2) # <<< this code is to round off to the decimal place\n",
        "\n",
        "print (\"Area of the rectangle {} x {} is {} per square meter \".format(width, height, area))"
      ],
      "execution_count": 6,
      "outputs": [
        {
          "output_type": "stream",
          "text": [
            "Area of the rectangle 10.54 x 20.2145 is 213.06082999999998 per square meter \n"
          ],
          "name": "stdout"
        }
      ]
    },
    {
      "cell_type": "markdown",
      "metadata": {
        "id": "DuiM-hPlhrrN"
      },
      "source": [
        "**Relational Operator**"
      ]
    },
    {
      "cell_type": "code",
      "metadata": {
        "colab": {
          "base_uri": "https://localhost:8080/"
        },
        "id": "_JVOE3sLhxUb",
        "outputId": "0de4c345-c926-4202-e4c5-58f9c49092d6"
      },
      "source": [
        "x = 10\n",
        "y = 11\n",
        "\n",
        "x > y"
      ],
      "execution_count": 7,
      "outputs": [
        {
          "output_type": "execute_result",
          "data": {
            "text/plain": [
              "False"
            ]
          },
          "metadata": {
            "tags": []
          },
          "execution_count": 7
        }
      ]
    },
    {
      "cell_type": "markdown",
      "metadata": {
        "id": "sdXAqKorh3Mu"
      },
      "source": [
        "**Logical Operator**"
      ]
    },
    {
      "cell_type": "code",
      "metadata": {
        "colab": {
          "base_uri": "https://localhost:8080/"
        },
        "id": "2YQomgYKh6fM",
        "outputId": "9a2e97ac-205b-4dd7-d5e4-85c5bf62c8de"
      },
      "source": [
        "# Input\n",
        "x = 10\n",
        "y = 11\n",
        "z = 12\n",
        "\n",
        "z > y and y > x"
      ],
      "execution_count": 8,
      "outputs": [
        {
          "output_type": "execute_result",
          "data": {
            "text/plain": [
              "True"
            ]
          },
          "metadata": {
            "tags": []
          },
          "execution_count": 8
        }
      ]
    },
    {
      "cell_type": "markdown",
      "metadata": {
        "id": "CUMW6hgZiakv"
      },
      "source": [
        "**Selection**"
      ]
    },
    {
      "cell_type": "code",
      "metadata": {
        "colab": {
          "base_uri": "https://localhost:8080/",
          "height": 589
        },
        "id": "K0Oi4Lkoif-n",
        "outputId": "2aff8c55-a77e-401a-b919-e5bbc6b28abe"
      },
      "source": [
        "print(\"Pilih Bentuk\")\n",
        "print(\"A. Segiempat\")\n",
        "print(\"B. Segitiga\")\n",
        "print(\"C. Bulat\")\n",
        "\n",
        "bentuk = str(input(\"Pilih bentuk: \"))\n",
        "\n",
        "if bentuk == 'A':\n",
        "    print(\"Pilihan bentuk adalah Segiempat\")\n",
        "    lebar = float (input (\"Masukkan Lebar: \"))\n",
        "    tinggi = float (input (\"Masukkan Tinggi: \"))\n",
        "    luas = lebar * tinggi\n",
        "    print (\"Luas {} adalah {} \".format(bentuk, luas))\n",
        "           \n",
        "elif bentuk == 'B':\n",
        "    print(\"Pilihan bentuk adalah Segitiga\")\n",
        "    tapak = float (input (\"Masukkan Tapak: \"))\n",
        "    tinggi = float (input (\"Masukkan Tinggi: \"))\n",
        "    luas = (1/2) * tapak * tinggi\n",
        "    print (\"Luas {} adalah {} \".format(bentuk, luas))\n",
        "           \n",
        "elif bentuk == 'C':\n",
        "    print(\"Pilihan bentuk adalah Bulat\")\n",
        "    radius = float (input (\"Masukkan Radius: \"))\n",
        "    luas = 3.1415 * radius * radius\n",
        "    print (\"Luas {} adalah {} \".format(bentuk, luas))"
      ],
      "execution_count": 9,
      "outputs": [
        {
          "output_type": "stream",
          "text": [
            "Pilih Bentuk\n",
            "A. Segiempat\n",
            "B. Segitiga\n",
            "C. Bulat\n"
          ],
          "name": "stdout"
        },
        {
          "output_type": "error",
          "ename": "KeyboardInterrupt",
          "evalue": "ignored",
          "traceback": [
            "\u001b[0;31m---------------------------------------------------------------------------\u001b[0m",
            "\u001b[0;31mKeyboardInterrupt\u001b[0m                         Traceback (most recent call last)",
            "\u001b[0;32m/usr/local/lib/python3.7/dist-packages/ipykernel/kernelbase.py\u001b[0m in \u001b[0;36m_input_request\u001b[0;34m(self, prompt, ident, parent, password)\u001b[0m\n\u001b[1;32m    728\u001b[0m             \u001b[0;32mtry\u001b[0m\u001b[0;34m:\u001b[0m\u001b[0;34m\u001b[0m\u001b[0;34m\u001b[0m\u001b[0m\n\u001b[0;32m--> 729\u001b[0;31m                 \u001b[0mident\u001b[0m\u001b[0;34m,\u001b[0m \u001b[0mreply\u001b[0m \u001b[0;34m=\u001b[0m \u001b[0mself\u001b[0m\u001b[0;34m.\u001b[0m\u001b[0msession\u001b[0m\u001b[0;34m.\u001b[0m\u001b[0mrecv\u001b[0m\u001b[0;34m(\u001b[0m\u001b[0mself\u001b[0m\u001b[0;34m.\u001b[0m\u001b[0mstdin_socket\u001b[0m\u001b[0;34m,\u001b[0m \u001b[0;36m0\u001b[0m\u001b[0;34m)\u001b[0m\u001b[0;34m\u001b[0m\u001b[0;34m\u001b[0m\u001b[0m\n\u001b[0m\u001b[1;32m    730\u001b[0m             \u001b[0;32mexcept\u001b[0m \u001b[0mException\u001b[0m\u001b[0;34m:\u001b[0m\u001b[0;34m\u001b[0m\u001b[0;34m\u001b[0m\u001b[0m\n",
            "\u001b[0;32m/usr/local/lib/python3.7/dist-packages/jupyter_client/session.py\u001b[0m in \u001b[0;36mrecv\u001b[0;34m(self, socket, mode, content, copy)\u001b[0m\n\u001b[1;32m    802\u001b[0m         \u001b[0;32mtry\u001b[0m\u001b[0;34m:\u001b[0m\u001b[0;34m\u001b[0m\u001b[0;34m\u001b[0m\u001b[0m\n\u001b[0;32m--> 803\u001b[0;31m             \u001b[0mmsg_list\u001b[0m \u001b[0;34m=\u001b[0m \u001b[0msocket\u001b[0m\u001b[0;34m.\u001b[0m\u001b[0mrecv_multipart\u001b[0m\u001b[0;34m(\u001b[0m\u001b[0mmode\u001b[0m\u001b[0;34m,\u001b[0m \u001b[0mcopy\u001b[0m\u001b[0;34m=\u001b[0m\u001b[0mcopy\u001b[0m\u001b[0;34m)\u001b[0m\u001b[0;34m\u001b[0m\u001b[0;34m\u001b[0m\u001b[0m\n\u001b[0m\u001b[1;32m    804\u001b[0m         \u001b[0;32mexcept\u001b[0m \u001b[0mzmq\u001b[0m\u001b[0;34m.\u001b[0m\u001b[0mZMQError\u001b[0m \u001b[0;32mas\u001b[0m \u001b[0me\u001b[0m\u001b[0;34m:\u001b[0m\u001b[0;34m\u001b[0m\u001b[0;34m\u001b[0m\u001b[0m\n",
            "\u001b[0;32m/usr/local/lib/python3.7/dist-packages/zmq/sugar/socket.py\u001b[0m in \u001b[0;36mrecv_multipart\u001b[0;34m(self, flags, copy, track)\u001b[0m\n\u001b[1;32m    582\u001b[0m         \"\"\"\n\u001b[0;32m--> 583\u001b[0;31m         \u001b[0mparts\u001b[0m \u001b[0;34m=\u001b[0m \u001b[0;34m[\u001b[0m\u001b[0mself\u001b[0m\u001b[0;34m.\u001b[0m\u001b[0mrecv\u001b[0m\u001b[0;34m(\u001b[0m\u001b[0mflags\u001b[0m\u001b[0;34m,\u001b[0m \u001b[0mcopy\u001b[0m\u001b[0;34m=\u001b[0m\u001b[0mcopy\u001b[0m\u001b[0;34m,\u001b[0m \u001b[0mtrack\u001b[0m\u001b[0;34m=\u001b[0m\u001b[0mtrack\u001b[0m\u001b[0;34m)\u001b[0m\u001b[0;34m]\u001b[0m\u001b[0;34m\u001b[0m\u001b[0;34m\u001b[0m\u001b[0m\n\u001b[0m\u001b[1;32m    584\u001b[0m         \u001b[0;31m# have first part already, only loop while more to receive\u001b[0m\u001b[0;34m\u001b[0m\u001b[0;34m\u001b[0m\u001b[0;34m\u001b[0m\u001b[0m\n",
            "\u001b[0;32mzmq/backend/cython/socket.pyx\u001b[0m in \u001b[0;36mzmq.backend.cython.socket.Socket.recv\u001b[0;34m()\u001b[0m\n",
            "\u001b[0;32mzmq/backend/cython/socket.pyx\u001b[0m in \u001b[0;36mzmq.backend.cython.socket.Socket.recv\u001b[0;34m()\u001b[0m\n",
            "\u001b[0;32mzmq/backend/cython/socket.pyx\u001b[0m in \u001b[0;36mzmq.backend.cython.socket._recv_copy\u001b[0;34m()\u001b[0m\n",
            "\u001b[0;32m/usr/local/lib/python3.7/dist-packages/zmq/backend/cython/checkrc.pxd\u001b[0m in \u001b[0;36mzmq.backend.cython.checkrc._check_rc\u001b[0;34m()\u001b[0m\n",
            "\u001b[0;31mKeyboardInterrupt\u001b[0m: ",
            "\nDuring handling of the above exception, another exception occurred:\n",
            "\u001b[0;31mKeyboardInterrupt\u001b[0m                         Traceback (most recent call last)",
            "\u001b[0;32m<ipython-input-9-1e91bbf9d58d>\u001b[0m in \u001b[0;36m<module>\u001b[0;34m()\u001b[0m\n\u001b[1;32m      4\u001b[0m \u001b[0mprint\u001b[0m\u001b[0;34m(\u001b[0m\u001b[0;34m\"C. Bulat\"\u001b[0m\u001b[0;34m)\u001b[0m\u001b[0;34m\u001b[0m\u001b[0;34m\u001b[0m\u001b[0m\n\u001b[1;32m      5\u001b[0m \u001b[0;34m\u001b[0m\u001b[0m\n\u001b[0;32m----> 6\u001b[0;31m \u001b[0mbentuk\u001b[0m \u001b[0;34m=\u001b[0m \u001b[0mstr\u001b[0m\u001b[0;34m(\u001b[0m\u001b[0minput\u001b[0m\u001b[0;34m(\u001b[0m\u001b[0;34m\"Pilih bentuk: \"\u001b[0m\u001b[0;34m)\u001b[0m\u001b[0;34m)\u001b[0m\u001b[0;34m\u001b[0m\u001b[0;34m\u001b[0m\u001b[0m\n\u001b[0m\u001b[1;32m      7\u001b[0m \u001b[0;34m\u001b[0m\u001b[0m\n\u001b[1;32m      8\u001b[0m \u001b[0;32mif\u001b[0m \u001b[0mbentuk\u001b[0m \u001b[0;34m==\u001b[0m \u001b[0;34m'A'\u001b[0m\u001b[0;34m:\u001b[0m\u001b[0;34m\u001b[0m\u001b[0;34m\u001b[0m\u001b[0m\n",
            "\u001b[0;32m/usr/local/lib/python3.7/dist-packages/ipykernel/kernelbase.py\u001b[0m in \u001b[0;36mraw_input\u001b[0;34m(self, prompt)\u001b[0m\n\u001b[1;32m    702\u001b[0m             \u001b[0mself\u001b[0m\u001b[0;34m.\u001b[0m\u001b[0m_parent_ident\u001b[0m\u001b[0;34m,\u001b[0m\u001b[0;34m\u001b[0m\u001b[0;34m\u001b[0m\u001b[0m\n\u001b[1;32m    703\u001b[0m             \u001b[0mself\u001b[0m\u001b[0;34m.\u001b[0m\u001b[0m_parent_header\u001b[0m\u001b[0;34m,\u001b[0m\u001b[0;34m\u001b[0m\u001b[0;34m\u001b[0m\u001b[0m\n\u001b[0;32m--> 704\u001b[0;31m             \u001b[0mpassword\u001b[0m\u001b[0;34m=\u001b[0m\u001b[0;32mFalse\u001b[0m\u001b[0;34m,\u001b[0m\u001b[0;34m\u001b[0m\u001b[0;34m\u001b[0m\u001b[0m\n\u001b[0m\u001b[1;32m    705\u001b[0m         )\n\u001b[1;32m    706\u001b[0m \u001b[0;34m\u001b[0m\u001b[0m\n",
            "\u001b[0;32m/usr/local/lib/python3.7/dist-packages/ipykernel/kernelbase.py\u001b[0m in \u001b[0;36m_input_request\u001b[0;34m(self, prompt, ident, parent, password)\u001b[0m\n\u001b[1;32m    732\u001b[0m             \u001b[0;32mexcept\u001b[0m \u001b[0mKeyboardInterrupt\u001b[0m\u001b[0;34m:\u001b[0m\u001b[0;34m\u001b[0m\u001b[0;34m\u001b[0m\u001b[0m\n\u001b[1;32m    733\u001b[0m                 \u001b[0;31m# re-raise KeyboardInterrupt, to truncate traceback\u001b[0m\u001b[0;34m\u001b[0m\u001b[0;34m\u001b[0m\u001b[0;34m\u001b[0m\u001b[0m\n\u001b[0;32m--> 734\u001b[0;31m                 \u001b[0;32mraise\u001b[0m \u001b[0mKeyboardInterrupt\u001b[0m\u001b[0;34m\u001b[0m\u001b[0;34m\u001b[0m\u001b[0m\n\u001b[0m\u001b[1;32m    735\u001b[0m             \u001b[0;32melse\u001b[0m\u001b[0;34m:\u001b[0m\u001b[0;34m\u001b[0m\u001b[0;34m\u001b[0m\u001b[0m\n\u001b[1;32m    736\u001b[0m                 \u001b[0;32mbreak\u001b[0m\u001b[0;34m\u001b[0m\u001b[0;34m\u001b[0m\u001b[0m\n",
            "\u001b[0;31mKeyboardInterrupt\u001b[0m: "
          ]
        }
      ]
    },
    {
      "cell_type": "markdown",
      "metadata": {
        "id": "hcu1LVlqinfM"
      },
      "source": [
        "**Loop**"
      ]
    },
    {
      "cell_type": "code",
      "metadata": {
        "id": "8zN_wHtyixH7"
      },
      "source": [
        "print(\"Pilih Bentuk\")\n",
        "print(\"A. Segiempat\")\n",
        "print(\"B. Segitiga\")\n",
        "print(\"C. Bulat\")\n",
        "\n",
        "bentuk = str(input(\"Pilih bentuk: \"))\n",
        "\n",
        "while bentuk != 'A' and bentuk != 'B' and bentuk != 'C':\n",
        "    print (\"Pilihan tidak ada dalam senarai. Sila masukkan A, B atau C.\")\n",
        "    bentuk = str(input(\"Pilih bentuk: \"))\n",
        "\n",
        "if bentuk == 'A':\n",
        "    print(\"Pilihan bentuk adalah Segiempat\")\n",
        "    lebar = float (input (\"Masukkan Lebar: \"))\n",
        "    tinggi = float (input (\"Masukkan Tinggi: \"))\n",
        "    luas = lebar * tinggi\n",
        "    print (\"Luas {} adalah {} \".format(bentuk, luas))\n",
        "           \n",
        "elif bentuk == 'B':\n",
        "    print(\"Pilihan bentuk adalah Segitiga\")\n",
        "    tapak = float (input (\"Masukkan Tapak: \"))\n",
        "    tinggi = float (input (\"Masukkan Tinggi: \"))\n",
        "    luas = (1/2) * tapak * tinggi\n",
        "    print (\"Luas {} adalah {} \".format(bentuk, luas))\n",
        "           \n",
        "elif bentuk == 'C':\n",
        "    print(\"Pilihan bentuk adalah Bulat\")\n",
        "    radius = float (input (\"Masukkan Radius: \"))\n",
        "    luas = 3.1415 * radius * radius\n",
        "    print (\"Luas {} adalah {} \".format(bentuk, luas))"
      ],
      "execution_count": null,
      "outputs": []
    },
    {
      "cell_type": "markdown",
      "metadata": {
        "id": "E9W0zWjEjZ9T"
      },
      "source": [
        "**Loop (Array)**"
      ]
    },
    {
      "cell_type": "code",
      "metadata": {
        "id": "REoheLT4je4E"
      },
      "source": [
        "cars = [\"Ford\",\"Volvo\",\"BMW\"]\n",
        "for x in cars:\n",
        "  print(x)\n",
        "\n"
      ],
      "execution_count": null,
      "outputs": []
    },
    {
      "cell_type": "markdown",
      "metadata": {
        "id": "71cjE6xDkMhN"
      },
      "source": [
        "**Function**"
      ]
    },
    {
      "cell_type": "code",
      "metadata": {
        "id": "HoBRrmb6kOgh"
      },
      "source": [
        "def celsius_to_fahrenheit(celsius): \n",
        "\tfahrenheit = celsius * 1.8 + 32.0 \n",
        "\treturn fahrenheit \n",
        "\n",
        "celsius = int(input(\"Please state temperature (Celcius): \"))\n",
        "result = celsius_to_fahrenheit(celsius)\n",
        "print(\"The temperature {} Celcius is {} Fahrenheit\".format(celsius, result))"
      ],
      "execution_count": null,
      "outputs": []
    },
    {
      "cell_type": "markdown",
      "metadata": {
        "id": "Y7DAL9bwlvg7"
      },
      "source": [
        "**Classes**"
      ]
    },
    {
      "cell_type": "code",
      "metadata": {
        "id": "9MNbVlEGl4rq"
      },
      "source": [
        "class Greeter(object): \n",
        "\t# Constructor \n",
        "\tdef __init__(self, name): \n",
        "\t\tself.name = name # Create an instance variable # Instance method \n",
        "\tdef greet(self, loud=False): \n",
        "\t\tif loud: \n",
        "\t\t\tprint('HELLO, %s!' % self.name.upper()) \n",
        "\t\telse: \n",
        "\t\t\tprint('Hello, %s' % self.name) \n",
        "g = Greeter('Fred') # Construct an instance of the Greeter class \n",
        "g.greet() # Call an instance method; prints \"Hello, Fred\" \n",
        "g.greet(loud=True) # Call an instance method; prints \"HELLO, FRED!\"\n",
        "\n"
      ],
      "execution_count": null,
      "outputs": []
    },
    {
      "cell_type": "markdown",
      "metadata": {
        "id": "ACHTosKBmPcb"
      },
      "source": [
        "**List (Ordered)**"
      ]
    },
    {
      "cell_type": "code",
      "metadata": {
        "id": "roKh_AybmT6n"
      },
      "source": [
        "xs = [3, 1, 2] # Create a list \n",
        "print(xs, xs[2])\n",
        "\n",
        "# xs[2] = 'foo' # Lists can contain elements of different types \n",
        "# print(xs)\n",
        "\n",
        "# xs.append('bar') # Add a new element to the end of the list \n",
        "# print(xs)\n",
        "\n",
        "# xs.insert(0,2) # tambah elemen kpd indeks (indeks, element)\n",
        "# print(xs)\n",
        "\n",
        "# x = xs.pop() # Remove and return the last element of the list \n",
        "# print(x, xs)\n"
      ],
      "execution_count": null,
      "outputs": []
    },
    {
      "cell_type": "markdown",
      "metadata": {
        "id": "RTB8vxXrnOFD"
      },
      "source": [
        "**Tuple (Unordered)**"
      ]
    },
    {
      "cell_type": "code",
      "metadata": {
        "id": "eblk8-CZnQ_D"
      },
      "source": [
        "d = {(x, x + 1): x for x in range(10)} # Create a dictionary with tuple keys \n",
        "t = (5, 6) # Create a tuple \n",
        "\n",
        "print(type(t))\n",
        "\n",
        "print(d[t]) \n",
        "\n",
        "# print(d[(1, 2)])\n"
      ],
      "execution_count": null,
      "outputs": []
    },
    {
      "cell_type": "markdown",
      "metadata": {
        "id": "v0ZXkLwmoVF-"
      },
      "source": [
        "**Sets (Unordered)**"
      ]
    },
    {
      "cell_type": "code",
      "metadata": {
        "id": "Zim0WG-MoaNa"
      },
      "source": [
        "animals = {'cat', 'dog'}\n",
        "print('cat' in animals) # Check if an element is in a set; \n",
        "\n",
        "# print('fish' in animals)\n",
        "\n",
        "# animals.add('fish') # Add an element to a set \n",
        "# print('fish' in animals)\n",
        "# print(len(animals)) # Number of elements in a set;\n",
        "\n",
        "# animals.add('cat') # Adding an element that is already in the set does nothing \n",
        "# print(len(animals)) \n",
        "\n",
        "# animals.remove('cat') # Remove an element from a set \n",
        "# print(len(animals))\n",
        "\n"
      ],
      "execution_count": null,
      "outputs": []
    },
    {
      "cell_type": "markdown",
      "metadata": {
        "id": "IVQG4yNYtUDP"
      },
      "source": [
        "**Dictionary**"
      ]
    },
    {
      "cell_type": "code",
      "metadata": {
        "id": "RjlZLyRAtYOn"
      },
      "source": [
        "d = {'cat': 'cute','dog': 'furry'} # Create a new dictionary with some data \n",
        "\n",
        "print(d['cat']) # Get an entry from a dictionary;\n",
        "\n",
        "# print('cat' in d) # Check if a dictionary has a given key; \n",
        "\n",
        "# d['fish'] = 'wet' # Set an entry in a dictionary \n",
        "\n",
        "# print(d['fish'])\n",
        "\n",
        "# print(d['monkey']) # KeyError: 'monkey' not a key of d \n",
        "\n",
        "# print(d.get('monkey', 'N/A')) # Get an element with a default;\n",
        "\n",
        "# print(d.get('fish', 'N/A')) # Get an element with a default;\n",
        "\n",
        "# del d['fish'] # Remove an element from a dictionary \n",
        "\n",
        "# print(d.get('fish', 'N/A'))\n",
        "\n"
      ],
      "execution_count": null,
      "outputs": []
    },
    {
      "cell_type": "markdown",
      "metadata": {
        "id": "ZC0937xsu_bp"
      },
      "source": [
        "**NumPy (2D Array)**"
      ]
    },
    {
      "cell_type": "code",
      "metadata": {
        "id": "QomQn6SPvEWp"
      },
      "source": [
        "import numpy as np \n",
        "a2 = np.array([[1, 2, 3],\n",
        "               [4, 5, 6],\n",
        "               [7, 8, 9]])\n",
        "print(a2[2, 1])\n",
        "\n",
        "# print(a2[:, 1])"
      ],
      "execution_count": null,
      "outputs": []
    },
    {
      "cell_type": "code",
      "metadata": {
        "id": "Mpb_ekGAxV-3"
      },
      "source": [
        "import numpy as np \n",
        "a2 = np.array([[10, 11, 12, 13, 14],       \n",
        "               [15, 16, 17, 18, 19],    \n",
        "               [20, 21, 22, 23, 24], \n",
        "               [25, 26, 27, 28, 29]]) \n",
        "print(a2[1:,2:4])\n",
        "\n"
      ],
      "execution_count": null,
      "outputs": []
    },
    {
      "cell_type": "markdown",
      "metadata": {
        "id": "sPWh_RlIv41B"
      },
      "source": [
        "**NumPy (3D Array)**"
      ]
    },
    {
      "cell_type": "code",
      "metadata": {
        "id": "DlFEVee1v93M"
      },
      "source": [
        "import numpy as np \n",
        "a3 = np.array([[[10, 11, 12],[13, 14, 15], [16, 17, 18]],\n",
        "               [[20, 21, 22], [23, 24, 25], [26, 27, 28]],\n",
        "               [[30, 31, 32], [33, 34, 35], [36, 37, 38]]])\n",
        "print(a3[2, 0, 1])\n",
        "\n",
        "# print(a3[0, :, 1])\n"
      ],
      "execution_count": null,
      "outputs": []
    },
    {
      "cell_type": "markdown",
      "metadata": {
        "id": "UlR8SVPP1y5i"
      },
      "source": [
        "**SciPy (Euclidian Distance)**"
      ]
    },
    {
      "cell_type": "code",
      "metadata": {
        "id": "-HdO_VDP13je"
      },
      "source": [
        "import numpy as np \n",
        "import pandas as pd\n",
        "from scipy.spatial.distance import pdist, squareform \n",
        "\n",
        "x = np.array([[0, 1], [1, 0], [2, 0]]) \n",
        "print(x) \n",
        "\n",
        "# Compute the Euclidean distance between all rows of x. \n",
        "# d[i, j] is the Euclidean distance between x[i, :] and x[j, :], \n",
        "d = squareform(pdist(x, 'euclidean')) \n",
        "print(d)"
      ],
      "execution_count": null,
      "outputs": []
    },
    {
      "cell_type": "markdown",
      "metadata": {
        "id": "GfGxUWMf7sDn"
      },
      "source": [
        "**Pandas DataFrame**"
      ]
    },
    {
      "cell_type": "code",
      "metadata": {
        "id": "B0ivYVq37zX9"
      },
      "source": [
        "#Import Packages\n",
        "import pandas as pd\n",
        "\n",
        "#Creating List\n",
        "list_1 = [1,7,8,10,11]\n",
        "\n",
        "#Create DataFrame from list_1\n",
        "df_1 = pd.DataFrame(list_1)\n",
        "df_1"
      ],
      "execution_count": null,
      "outputs": []
    },
    {
      "cell_type": "code",
      "metadata": {
        "id": "j-WwUg4G72qw"
      },
      "source": [
        "#Naming the columns\n",
        "df_1 = pd.DataFrame(list_1,columns = ['Data 1'])\n",
        "df_1"
      ],
      "execution_count": null,
      "outputs": []
    },
    {
      "cell_type": "code",
      "metadata": {
        "id": "JKCKGMZI7_7M"
      },
      "source": [
        "#Create DataFrame from multiple list\n",
        "list_1 = [1,7,8,10,11]\n",
        "list_2 = [2,5,6,8,20]\n",
        "list_3 = [21,26,30,78,100]\n",
        "\n",
        "#Create DataFrame from list_1\n",
        "df = pd.DataFrame ({'Data 1':list_1,'Data 2':list_2,'Data 3':list_3})\n",
        "df"
      ],
      "execution_count": null,
      "outputs": []
    },
    {
      "cell_type": "code",
      "metadata": {
        "id": "uyzFULDA8DyO"
      },
      "source": [
        "#Extracting one column from the DataFrame\n",
        "df['Data 2']"
      ],
      "execution_count": null,
      "outputs": []
    },
    {
      "cell_type": "code",
      "metadata": {
        "id": "u57_rEPf8UcU"
      },
      "source": [
        "#Adding another column in the DataFrame\n",
        "\n",
        "#Performing computation in Pandas DataFrame\n",
        "x = df['Data 2'] + df['Data 3']\n",
        "df['Data 4'] = x\n",
        "df"
      ],
      "execution_count": null,
      "outputs": []
    },
    {
      "cell_type": "code",
      "metadata": {
        "id": "B2D2ZMCD8lpj"
      },
      "source": [
        "#Import data from Excel file into Pandas DataFrame\n",
        "import pandas as pd\n",
        "\n",
        "df = pd.read_excel('/content/drive/MyDrive/Training/car_sold.xlsx')\n",
        "\n",
        "#Viewing imported DataFrame\n",
        "df"
      ],
      "execution_count": null,
      "outputs": []
    },
    {
      "cell_type": "markdown",
      "metadata": {
        "id": "sB7rdvqpAW9R"
      },
      "source": [
        "**MatPlotLib (Line Chart)**"
      ]
    },
    {
      "cell_type": "code",
      "metadata": {
        "id": "1RtbRMr5AbBC"
      },
      "source": [
        "#Create data points\n",
        "x = [1,2,3,4,5,6,7,8,9,10]\n",
        "y = [21,22,23,24,25,26,27,28,29,30]\n",
        "\n",
        "#Plot Line Chart\n",
        "plt.plot(x,y)\n",
        "\n",
        "#Add title & axis label\n",
        "plt.title('Result')\n",
        "plt.xlabel('x-axis')\n",
        "plt.ylabel('y-axis')\n",
        "\n",
        "#Show the figure\n",
        "plt.show()"
      ],
      "execution_count": null,
      "outputs": []
    },
    {
      "cell_type": "markdown",
      "metadata": {
        "id": "t7POHx_2Asee"
      },
      "source": [
        "**MatPlotLib (Scatter Plot)**"
      ]
    },
    {
      "cell_type": "code",
      "metadata": {
        "id": "s2PSszhaAwAt"
      },
      "source": [
        "#Create data points\n",
        "x = [1,2,3,4]\n",
        "y = [10,15,27,70]\n",
        "\n",
        "#Plot scatter point\n",
        "plt.scatter(x,y)\n",
        "\n",
        "#Add title & axis label\n",
        "plt.title('Result')\n",
        "plt.xlabel('x-axis')\n",
        "plt.ylabel('y-axis')\n",
        "\n",
        "#Show figure\n",
        "plt.show()"
      ],
      "execution_count": null,
      "outputs": []
    },
    {
      "cell_type": "markdown",
      "metadata": {
        "id": "NUGrUa6WA2Dn"
      },
      "source": [
        "**MatPlotLib (Pie Chart)**"
      ]
    },
    {
      "cell_type": "code",
      "metadata": {
        "id": "LJdTCVbNA5t2"
      },
      "source": [
        "#Import packages\n",
        "import matplotlib.pyplot as plt\n",
        "\n",
        "#Data Points\n",
        "internet_browsers = ['Safari','Edge','Chrome','Firefox','IE','Opera']\n",
        "market_share = [61.64,11.98,11.02,4.23,3.79,7.34]\n",
        "\n",
        "#Plot the bar chart\n",
        "plt.pie(market_share,labels = internet_browsers,autopct='%.2f%%')\n",
        "\n",
        "#Add title & axis label\n",
        "plt.title('Internet Browsers Marketshare')\n",
        "\n",
        "#Show result\n",
        "plt.show()"
      ],
      "execution_count": null,
      "outputs": []
    },
    {
      "cell_type": "code",
      "metadata": {
        "id": "DIgTaM3TA70a"
      },
      "source": [
        "#Exploding the slices\n",
        "\n",
        "#Import packages\n",
        "import matplotlib.pyplot as plt\n",
        "\n",
        "#Data Points\n",
        "internet_browsers = ['Safari','Edge','Chrome','Firefox','IE','Opera']\n",
        "market_share = [61.64,11.98,11.02,4.23,3.79,7.34]\n",
        "explode = (0,0.5,0,0,0.8,0.7)\n",
        "\n",
        "#Plot the bar chart\n",
        "plt.pie(market_share,labels = internet_browsers,autopct='%.1f%%',explode=explode) #Apply explodes\n",
        "\n",
        "#Add title & axis label\n",
        "plt.title('Internet Browsers Marketshare')\n",
        "\n",
        "#Show result\n",
        "plt.show()"
      ],
      "execution_count": null,
      "outputs": []
    },
    {
      "cell_type": "code",
      "metadata": {
        "id": "FyCauu5FBIwU"
      },
      "source": [
        "#Displaying a Legends\n",
        "\n",
        "#Import packages\n",
        "import matplotlib.pyplot as plt\n",
        "\n",
        "#Data Points\n",
        "internet_browsers = ['Safari','Edge','Chrome','Firefox','IE','Opera']\n",
        "market_share = [61.64,11.98,11.02,4.23,3.79,7.34]\n",
        "explode = (0,0.5,0,0,0.8,0.7)\n",
        "\n",
        "#Plot the bar chart\n",
        "plt.pie(market_share,labels = internet_browsers,autopct='%.1f%%',explode=explode)\n",
        "\n",
        "#Add title & axis label\n",
        "plt.title('Internet Browsers Marketshare')\n",
        "\n",
        "#Apply legend\n",
        "plt.legend(internet_browsers,loc='best')\n",
        "\n",
        "#Show result\n",
        "plt.show()"
      ],
      "execution_count": null,
      "outputs": []
    },
    {
      "cell_type": "markdown",
      "metadata": {
        "id": "6L6qIRzgBtd3"
      },
      "source": [
        "**MatPlotLib (Bar Chart)**"
      ]
    },
    {
      "cell_type": "code",
      "metadata": {
        "id": "6YNAhjclBw_8"
      },
      "source": [
        "#Import packages\n",
        "import matplotlib.pyplot as plt\n",
        "\n",
        "#Data Points\n",
        "rainfall = [12,9,16,3,21,7,8,4,6,21,4,1]\n",
        "months = ['Jan','Feb','Mar','Apr','May','Jun','Jul','Aug','Sep','Oct','Nov','Dec']\n",
        "\n",
        "#Plot the bar chart\n",
        "plt.bar(months,rainfall,align='center',color ='blue')\n",
        "\n",
        "#Add title & axis label\n",
        "plt.title('Rainfall Precipitation')\n",
        "plt.xlabel('Months')\n",
        "plt.ylabel('Rainfall')\n",
        "\n",
        "#Show result\n",
        "plt.show()"
      ],
      "execution_count": null,
      "outputs": []
    },
    {
      "cell_type": "markdown",
      "metadata": {
        "id": "DSL2xlfS403H"
      },
      "source": [
        "**MatPlotLib (Single Plot)**"
      ]
    },
    {
      "cell_type": "code",
      "metadata": {
        "id": "XECTZ79b44i0"
      },
      "source": [
        "import numpy as np \n",
        "import matplotlib.pyplot as plt \n",
        "\n",
        "# Compute the x and y coordinates for points on a sine curve \n",
        "x = np.arange(0, 3 * np.pi, 0.1) \n",
        "y = np.sin(x) \n",
        "\n",
        "# Plot the points using matplotlib \n",
        "plt.plot(x, y) \n",
        "plt.show() # You must call plt.show() to make graphics appear.\n",
        "\n"
      ],
      "execution_count": null,
      "outputs": []
    },
    {
      "cell_type": "markdown",
      "metadata": {
        "id": "j1R-Kpp45HIt"
      },
      "source": [
        "**MatPlotLib (Multiple Plot)**"
      ]
    },
    {
      "cell_type": "code",
      "metadata": {
        "id": "GNnu8U0W5Ltm"
      },
      "source": [
        "import numpy as np \n",
        "import matplotlib.pyplot as plt\n",
        "\n",
        "# Compute the x and y coordinates for points on sine and cosine curves \n",
        "x = np.arange(0, 3 * np.pi, 0.1) \n",
        "y_sin = np.sin(x) \n",
        "y_cos = np.cos(x) \n",
        "\n",
        "# Plot the points using matplotlib \n",
        "plt.plot(x, y_sin) \n",
        "plt.plot(x, y_cos) \n",
        "plt.xlabel('x axis label') \n",
        "plt.ylabel('y axis label') \n",
        "plt.title('Sine and Cosine') \n",
        "plt.legend(['Sine', 'Cosine']) \n",
        "plt.show()"
      ],
      "execution_count": null,
      "outputs": []
    },
    {
      "cell_type": "markdown",
      "metadata": {
        "id": "B7Yj3WQD6JH_"
      },
      "source": [
        "**MatPlotLib (Image)**"
      ]
    },
    {
      "cell_type": "code",
      "metadata": {
        "id": "3UVQWnFO6N5Z"
      },
      "source": [
        "import numpy as np \n",
        "from PIL import Image, ImageEnhance\n",
        "\n",
        "img = Image.open('/content/drive/MyDrive/Training/cat.png') \n",
        "contrast_filter = ImageEnhance.Contrast(img)\n",
        "img_contrast = contrast_filter.enhance(4)\n",
        "\n",
        "plt.subplot(1, 2, 1) \n",
        "plt.imshow(img) \n",
        "plt.subplot(1, 2, 2)\n",
        "\n",
        "plt.imshow(np.uint8(img_contrast)) \n",
        "plt.show()"
      ],
      "execution_count": null,
      "outputs": []
    },
    {
      "cell_type": "markdown",
      "metadata": {
        "id": "RNEaD2iECpEV"
      },
      "source": [
        "# **Data Collection and Data Preprocessing**"
      ]
    },
    {
      "cell_type": "markdown",
      "metadata": {
        "id": "eLqjrRev_2Hl"
      },
      "source": [
        "**Import Dataset (Current Company)**"
      ]
    },
    {
      "cell_type": "code",
      "metadata": {
        "id": "kIrRezQK_7E7"
      },
      "source": [
        "import pandas as pd\n",
        "import numpy as np\n",
        "\n",
        "# Import Dataset\n",
        "data = pd.read_csv('/content/drive/MyDrive/Training/data/tx-death-penalty/extracted/texas-death-row.csv')\n",
        "\n",
        "# Read Dataset\n",
        "data.head()"
      ],
      "execution_count": null,
      "outputs": []
    },
    {
      "cell_type": "markdown",
      "metadata": {
        "id": "hBWWv0gPBUdg"
      },
      "source": [
        "**Import Dataset (Survey)**"
      ]
    },
    {
      "cell_type": "code",
      "metadata": {
        "id": "Hxo9H_2LBY_8"
      },
      "source": [
        "import pandas as pd\n",
        "import numpy as np\n",
        "\n",
        "# Import Dataset\n",
        "data = pd.read_csv('/content/drive/MyDrive/Training/tahfiz_survey.csv')\n",
        "\n",
        "# Read Dataset\n",
        "data.head()"
      ],
      "execution_count": null,
      "outputs": []
    },
    {
      "cell_type": "markdown",
      "metadata": {
        "id": "b1zmOxXJCW9Y"
      },
      "source": [
        "**Import Dataset (Social Media)**"
      ]
    },
    {
      "cell_type": "code",
      "metadata": {
        "id": "jzi-m3RYCbDF"
      },
      "source": [
        "import pandas as pd\n",
        "import numpy as np\n",
        "\n",
        "# Import Dataset\n",
        "data = pd.read_csv('/content/drive/MyDrive/Training/cuaca_malaysia_2018.csv')\n",
        "\n",
        "# Read Dataset\n",
        "data.head()"
      ],
      "execution_count": null,
      "outputs": []
    },
    {
      "cell_type": "markdown",
      "metadata": {
        "id": "ZNPGHnF0GrNv"
      },
      "source": [
        "**Randomly Generated Dataset**"
      ]
    },
    {
      "cell_type": "code",
      "metadata": {
        "id": "c-rlrvAGGulL"
      },
      "source": [
        "import pandas as pd\n",
        "import numpy as np\n",
        "\n",
        "df1 = pd.DataFrame(np.random.uniform(low=0, high=5, size=(500, 5)),columns=['Feature 1', 'Feature 2', 'Feature 3', 'Feature 4', 'Feature 5'])\n",
        "\n",
        "df1"
      ],
      "execution_count": null,
      "outputs": []
    },
    {
      "cell_type": "code",
      "metadata": {
        "id": "v41Vygs9HMgR"
      },
      "source": [
        "df2 = pd.DataFrame(np.random.randint(low=0, high=10, size=(500)),columns=['Outcome'])\n",
        "\n",
        "df2"
      ],
      "execution_count": null,
      "outputs": []
    },
    {
      "cell_type": "code",
      "metadata": {
        "id": "nDixe9JHHWYk"
      },
      "source": [
        "df1['OUTCOME'] = df2['Outcome'].values # Wrangle column\n",
        "\n",
        "df1"
      ],
      "execution_count": null,
      "outputs": []
    },
    {
      "cell_type": "markdown",
      "metadata": {
        "id": "ghcg4Ou-IDnK"
      },
      "source": [
        "**Cleansing**"
      ]
    },
    {
      "cell_type": "code",
      "metadata": {
        "id": "FjIr4m9OIGBs"
      },
      "source": [
        "import pandas as pd\n",
        "import numpy as np\n",
        "\n",
        "# Import Dataset\n",
        "data = pd.read_csv('/content/drive/MyDrive/Training/wrangle.csv')\n",
        "\n",
        "# Read Dataset\n",
        "data.head()"
      ],
      "execution_count": null,
      "outputs": []
    },
    {
      "cell_type": "code",
      "metadata": {
        "id": "PFCiiXoqIUd7"
      },
      "source": [
        "# Statistical summary\n",
        "data.describe(include='all') # It cannot be properly described or analyzed as there are errors in the dataset"
      ],
      "execution_count": null,
      "outputs": []
    },
    {
      "cell_type": "code",
      "metadata": {
        "id": "t81vo0XkJbci"
      },
      "source": [
        "data.drop(data[data['price'] < 0].index, inplace = True) # delete rows with negative price\n",
        "\n",
        "data"
      ],
      "execution_count": null,
      "outputs": []
    },
    {
      "cell_type": "code",
      "metadata": {
        "id": "rPEyb8j5KDi1"
      },
      "source": [
        "# replacing NaN values in sold with NO\n",
        "data[\"sold\"].fillna(\"NO\", inplace = True)\n",
        "\n",
        "data"
      ],
      "execution_count": null,
      "outputs": []
    },
    {
      "cell_type": "code",
      "metadata": {
        "id": "HtpFlG7FLiLg"
      },
      "source": [
        "# replacing price (quantitative) NaN value with average price\n",
        "\n",
        "#calculate average price\n",
        "data[\"price\"].mean()"
      ],
      "execution_count": null,
      "outputs": []
    },
    {
      "cell_type": "code",
      "metadata": {
        "id": "7kLJv1r3L-5L"
      },
      "source": [
        "# replacing NaN values in price with average\n",
        "data[\"price\"].fillna(\"1.67\", inplace = True)\n",
        "data[\"price\"] = data[\"price\"].astype(float) # change the price from string to float\n",
        "\n",
        "data"
      ],
      "execution_count": null,
      "outputs": []
    },
    {
      "cell_type": "code",
      "metadata": {
        "id": "IYGcdKKCNGOM"
      },
      "source": [
        "# replacing NaN values in sold with NO\n",
        "data[\"type\"].fillna(\"Drink\", inplace = True)\n",
        "\n",
        "data"
      ],
      "execution_count": null,
      "outputs": []
    },
    {
      "cell_type": "markdown",
      "metadata": {
        "id": "72MIc1QzNWJP"
      },
      "source": [
        "**Validation (Distribution)**"
      ]
    },
    {
      "cell_type": "code",
      "metadata": {
        "id": "S4adF-BXNZSx"
      },
      "source": [
        "#Import libraries\n",
        "import matplotlib.pyplot as plt\n",
        "import seaborn as sns\n",
        "\n",
        "# Visualize the price distribution\n",
        "sns.distplot(data['price'], bins=5)"
      ],
      "execution_count": null,
      "outputs": []
    },
    {
      "cell_type": "markdown",
      "metadata": {
        "id": "I9SP2iBcOFIi"
      },
      "source": [
        "**Validation (Outliers)**"
      ]
    },
    {
      "cell_type": "code",
      "metadata": {
        "id": "wYkdlJurOAA1"
      },
      "source": [
        "#Box Plot Visualization of price\n",
        "sns.boxplot(data['price'])\n",
        "\n",
        "# assigned parameters orient = 'v' if want to visualize in vertical view"
      ],
      "execution_count": null,
      "outputs": []
    },
    {
      "cell_type": "markdown",
      "metadata": {
        "id": "Qu0HtVhSObY6"
      },
      "source": [
        "**Validation (Skewness)**"
      ]
    },
    {
      "cell_type": "code",
      "metadata": {
        "id": "l9utFMPgOgOS"
      },
      "source": [
        "#Check skewness of each column\n",
        "from scipy.stats import skew\n",
        "\n",
        "skew(data['price']) # good skewness is between -0.5 and 0.5"
      ],
      "execution_count": null,
      "outputs": []
    },
    {
      "cell_type": "markdown",
      "metadata": {
        "id": "msSyOVdxO8zg"
      },
      "source": [
        "**Validation (Statistically)**"
      ]
    },
    {
      "cell_type": "code",
      "metadata": {
        "id": "_koOHkWgPAH5"
      },
      "source": [
        "# Statistical summary\n",
        "data.describe(include='all')"
      ],
      "execution_count": null,
      "outputs": []
    },
    {
      "cell_type": "markdown",
      "metadata": {
        "id": "LV3uBSV-PdVa"
      },
      "source": [
        "**Save Preprocessed Data**"
      ]
    },
    {
      "cell_type": "code",
      "metadata": {
        "id": "wZhQxxZMPioI"
      },
      "source": [
        "# Save data in csv form\n",
        "data.to_csv('cleansed_data.csv', index=False)"
      ],
      "execution_count": null,
      "outputs": []
    },
    {
      "cell_type": "code",
      "metadata": {
        "id": "n4vVQhAHP3yF"
      },
      "source": [
        "# Read saved data\n",
        "df = pd.read_csv('/content/cleansed_data.csv')\n",
        "df"
      ],
      "execution_count": null,
      "outputs": []
    },
    {
      "cell_type": "markdown",
      "metadata": {
        "id": "A6Pk-gxzC9B7"
      },
      "source": [
        "# **Exploratory Data Analysis**"
      ]
    },
    {
      "cell_type": "markdown",
      "metadata": {
        "id": "CRuy4E7qYmpx"
      },
      "source": [
        "**Display Dataset**"
      ]
    },
    {
      "cell_type": "code",
      "metadata": {
        "id": "N2JLPthWYqah"
      },
      "source": [
        "import numpy as np\n",
        "import pandas as pd\n",
        "\n",
        "# Import example data\n",
        "data = pd.read_csv('/content/drive/MyDrive/Training/car_price_clean.csv')\n",
        "\n",
        "# Display dataset\n",
        "data.head(5)"
      ],
      "execution_count": null,
      "outputs": []
    },
    {
      "cell_type": "markdown",
      "metadata": {
        "id": "vIUv7qIwZATZ"
      },
      "source": [
        "**Check Missing Values**"
      ]
    },
    {
      "cell_type": "code",
      "metadata": {
        "id": "YhoTRtMNZCZM"
      },
      "source": [
        "# Check Missing Value\n",
        "data.isnull().sum()"
      ],
      "execution_count": null,
      "outputs": []
    },
    {
      "cell_type": "markdown",
      "metadata": {
        "id": "a_PPftoLZWpB"
      },
      "source": [
        "**Display Specific Column**"
      ]
    },
    {
      "cell_type": "code",
      "metadata": {
        "id": "uSto0JqcZZHN"
      },
      "source": [
        "# Calling a column (Example: ‘Price’ Column)\n",
        "data['Price'].head(10)"
      ],
      "execution_count": null,
      "outputs": []
    },
    {
      "cell_type": "markdown",
      "metadata": {
        "id": "PjyrCPp5ZmLp"
      },
      "source": [
        "**Check Dataset Size**"
      ]
    },
    {
      "cell_type": "code",
      "metadata": {
        "id": "GYh-qw9GZq1Q"
      },
      "source": [
        "# Size of the dataset\n",
        "size = data.shape\n",
        "print ('The size of the data is ', size)"
      ],
      "execution_count": null,
      "outputs": []
    },
    {
      "cell_type": "markdown",
      "metadata": {
        "id": "NE-POq3xZ33e"
      },
      "source": [
        "**Visualize Distribution**"
      ]
    },
    {
      "cell_type": "code",
      "metadata": {
        "id": "BjeU6i7gZ6Ij"
      },
      "source": [
        "# Visualize the Price distribution\n",
        "sns.distplot(data['Price'], bins=20)"
      ],
      "execution_count": null,
      "outputs": []
    },
    {
      "cell_type": "markdown",
      "metadata": {
        "id": "lh0IICLOaDYQ"
      },
      "source": [
        "**Visualize Outlier**"
      ]
    },
    {
      "cell_type": "code",
      "metadata": {
        "id": "Hr0x8L6jaHA2"
      },
      "source": [
        "#Box Plot Visualization\n",
        "sns.boxplot(data['Price'])"
      ],
      "execution_count": null,
      "outputs": []
    },
    {
      "cell_type": "markdown",
      "metadata": {
        "id": "2f54xobLaNIP"
      },
      "source": [
        "**Describe Dataset Statistically**"
      ]
    },
    {
      "cell_type": "code",
      "metadata": {
        "id": "7krtJgwOaUS7"
      },
      "source": [
        "# Statistical Summary\n",
        "data.describe(include='all')"
      ],
      "execution_count": null,
      "outputs": []
    },
    {
      "cell_type": "markdown",
      "metadata": {
        "id": "nE19OEOVacEI"
      },
      "source": [
        "**Count Unique Value**"
      ]
    },
    {
      "cell_type": "code",
      "metadata": {
        "id": "5nqFmt3_afoO"
      },
      "source": [
        "# Count Unique value of FuelType\n",
        "print(\"There are\", data['FuelType'].nunique(), \"types of Fuel\") #Number of unique value\n",
        "print(\"--------------------------\")\n",
        "data['FuelType'].value_counts() #Count for each unique value"
      ],
      "execution_count": null,
      "outputs": []
    },
    {
      "cell_type": "markdown",
      "metadata": {
        "id": "KRK7jMacbim4"
      },
      "source": [
        "**Check Correlation**"
      ]
    },
    {
      "cell_type": "code",
      "metadata": {
        "id": "PUYxqiblbkgy"
      },
      "source": [
        "# Select numerical attributes\n",
        "data_numerical = data[['Price','Age','KM','HP','CC']]\n",
        "\n",
        "# Correlation \n",
        "data_numerical.corr()"
      ],
      "execution_count": null,
      "outputs": []
    },
    {
      "cell_type": "markdown",
      "metadata": {
        "id": "W_oNy43EbujN"
      },
      "source": [
        "**Display Correlation Heatmap**"
      ]
    },
    {
      "cell_type": "code",
      "metadata": {
        "id": "hyp0oE-2bxU1"
      },
      "source": [
        "# Heatmap Correlation\n",
        "plt.figure(figsize=(8,8))\n",
        "sns.heatmap(data_numerical.corr(), annot=True, cmap='coolwarm')\n",
        "#Annot is to add the annotation from correlation matrix\n",
        "#cmap - color map"
      ],
      "execution_count": null,
      "outputs": []
    },
    {
      "cell_type": "markdown",
      "metadata": {
        "id": "5WrlcZKhb69X"
      },
      "source": [
        "**Visualize Relationship**"
      ]
    },
    {
      "cell_type": "code",
      "metadata": {
        "id": "KMb4TX3Fb94U"
      },
      "source": [
        "# Visualize Relationship Example between Price vs Age\n",
        "plt.scatter(data_numerical.Age, data_numerical.Price)\n",
        "plt.xlabel('Age',size=18)\n",
        "plt.ylabel('Price',size=18)"
      ],
      "execution_count": null,
      "outputs": []
    }
  ]
}